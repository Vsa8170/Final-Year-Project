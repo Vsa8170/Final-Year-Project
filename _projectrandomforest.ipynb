{
 "cells": [
  {
   "cell_type": "markdown",
   "metadata": {
    "id": "59lzo6HOP6R3"
   },
   "source": [
    "#importing libraries\n"
   ]
  },
  {
   "cell_type": "code",
   "execution_count": 1,
   "metadata": {
    "executionInfo": {
     "elapsed": 487,
     "status": "ok",
     "timestamp": 1639131229144,
     "user": {
      "displayName": "Gottapu Deepika",
      "photoUrl": "https://lh3.googleusercontent.com/a/default-user=s64",
      "userId": "16819115629145464662"
     },
     "user_tz": -330
    },
    "id": "I8ZePbveGEyZ"
   },
   "outputs": [],
   "source": [
    "import numpy as np\n",
    "import matplotlib.pyplot as plt\n",
    "import pandas as pd"
   ]
  },
  {
   "cell_type": "markdown",
   "metadata": {
    "id": "oISPChIpQHC_"
   },
   "source": [
    "#importing the dataset\n"
   ]
  },
  {
   "cell_type": "code",
   "execution_count": 2,
   "metadata": {
    "executionInfo": {
     "elapsed": 25,
     "status": "ok",
     "timestamp": 1639131229926,
     "user": {
      "displayName": "Gottapu Deepika",
      "photoUrl": "https://lh3.googleusercontent.com/a/default-user=s64",
      "userId": "16819115629145464662"
     },
     "user_tz": -330
    },
    "id": "k7tFyKi9HUEY"
   },
   "outputs": [],
   "source": [
    "traindataset = pd.read_csv('Training.csv')\n",
    "testdataset = pd.read_csv('Testing.csv')\n",
    "df_train = pd.read_csv('Training.csv', delimiter=',')\n",
    "# x = dataset.iloc[:, :-1].values\n",
    "# y = dataset.iloc[:, -1].values\n",
    "# k=y\n",
    "# diseases=y\n",
    "symptoms=np.array(df_train.columns)"
   ]
  },
  {
   "cell_type": "markdown",
   "metadata": {
    "id": "PsyuQHZuQSvY"
   },
   "source": [
    "#Splitting the dataset into the Training set and Test set"
   ]
  },
  {
   "cell_type": "code",
   "execution_count": 3,
   "metadata": {
    "executionInfo": {
     "elapsed": 24,
     "status": "ok",
     "timestamp": 1639131229927,
     "user": {
      "displayName": "Gottapu Deepika",
      "photoUrl": "https://lh3.googleusercontent.com/a/default-user=s64",
      "userId": "16819115629145464662"
     },
     "user_tz": -330
    },
    "id": "hDydFeJSMQGZ"
   },
   "outputs": [],
   "source": [
    "# from sklearn.model_selection import train_test_split\n",
    "# X_train, X_test, y_train, y_test = train_test_split(x, diseases, test_size = 0.15, random_state = 0)\n",
    "X_train =traindataset.iloc[:, :-1].values\n",
    "y_train=traindataset.iloc[:, -1].values\n",
    "X_test =testdataset.iloc[:, :-1].values\n",
    "y_test=testdataset.iloc[:, -1].values"
   ]
  },
  {
   "cell_type": "code",
   "execution_count": 4,
   "metadata": {
    "colab": {
     "base_uri": "https://localhost:8080/"
    },
    "executionInfo": {
     "elapsed": 25,
     "status": "ok",
     "timestamp": 1639131229929,
     "user": {
      "displayName": "Gottapu Deepika",
      "photoUrl": "https://lh3.googleusercontent.com/a/default-user=s64",
      "userId": "16819115629145464662"
     },
     "user_tz": -330
    },
    "id": "bjVcecd-M8JE",
    "outputId": "a6c88d39-43b3-458a-f295-74a1c2623dc0"
   },
   "outputs": [
    {
     "name": "stdout",
     "output_type": "stream",
     "text": [
      "['Fungal infection' 'Fungal infection' 'Fungal infection' ...\n",
      " 'Urinary tract infection' 'Psoriasis' 'Impetigo']\n"
     ]
    }
   ],
   "source": [
    "print(y_train)"
   ]
  },
  {
   "cell_type": "code",
   "execution_count": 5,
   "metadata": {
    "colab": {
     "base_uri": "https://localhost:8080/"
    },
    "executionInfo": {
     "elapsed": 21,
     "status": "ok",
     "timestamp": 1639131229930,
     "user": {
      "displayName": "Gottapu Deepika",
      "photoUrl": "https://lh3.googleusercontent.com/a/default-user=s64",
      "userId": "16819115629145464662"
     },
     "user_tz": -330
    },
    "id": "rLO-ojyafRBk",
    "outputId": "31aaeaa4-676e-40d6-ac44-e606ac2ecbed"
   },
   "outputs": [
    {
     "name": "stdout",
     "output_type": "stream",
     "text": [
      "['Fungal infection' 'Allergy' 'GERD' 'Chronic cholestasis' 'Drug Reaction'\n",
      " 'Peptic ulcer diseae' 'AIDS' 'Diabetes ' 'Gastroenteritis'\n",
      " 'Bronchial Asthma' 'Hypertension ' 'Migraine' 'Cervical spondylosis'\n",
      " 'Paralysis (brain hemorrhage)' 'Jaundice' 'Malaria' 'Chicken pox'\n",
      " 'Dengue' 'Typhoid' 'hepatitis A' 'Hepatitis B' 'Hepatitis C'\n",
      " 'Hepatitis D' 'Hepatitis E' 'Alcoholic hepatitis' 'Tuberculosis'\n",
      " 'Common Cold' 'Pneumonia' 'Dimorphic hemmorhoids(piles)' 'Heart attack'\n",
      " 'Varicose veins' 'Hypothyroidism' 'Hyperthyroidism' 'Hypoglycemia'\n",
      " 'Osteoarthristis' 'Arthritis' '(vertigo) Paroymsal  Positional Vertigo'\n",
      " 'Acne' 'Urinary tract infection' 'Psoriasis' 'Impetigo']\n"
     ]
    }
   ],
   "source": [
    "print(y_test)"
   ]
  },
  {
   "cell_type": "markdown",
   "metadata": {
    "id": "BBM-JNGoQX7t"
   },
   "source": [
    "#Training the random forest model on the Training set\n"
   ]
  },
  {
   "cell_type": "code",
   "execution_count": 6,
   "metadata": {
    "colab": {
     "base_uri": "https://localhost:8080/"
    },
    "executionInfo": {
     "elapsed": 521,
     "status": "ok",
     "timestamp": 1639131230436,
     "user": {
      "displayName": "Gottapu Deepika",
      "photoUrl": "https://lh3.googleusercontent.com/a/default-user=s64",
      "userId": "16819115629145464662"
     },
     "user_tz": -330
    },
    "id": "HE_RN9CbNQB_",
    "outputId": "28daf18a-e25b-4e1c-f733-e6ea1365ba26"
   },
   "outputs": [
    {
     "data": {
      "text/plain": [
       "RandomForestClassifier(criterion='entropy', random_state=0)"
      ]
     },
     "execution_count": 6,
     "metadata": {},
     "output_type": "execute_result"
    }
   ],
   "source": [
    "from sklearn.ensemble import RandomForestClassifier\n",
    "classifier = RandomForestClassifier(n_estimators = 100, criterion = 'entropy', random_state = 0)\n",
    "classifier.fit(X_train, y_train)"
   ]
  },
  {
   "cell_type": "markdown",
   "metadata": {
    "id": "o4ibX09CQtUb"
   },
   "source": [
    "#Predicting a new result"
   ]
  },
  {
   "cell_type": "code",
   "execution_count": 7,
   "metadata": {
    "colab": {
     "base_uri": "https://localhost:8080/"
    },
    "executionInfo": {
     "elapsed": 9642,
     "status": "ok",
     "timestamp": 1639131240060,
     "user": {
      "displayName": "Gottapu Deepika",
      "photoUrl": "https://lh3.googleusercontent.com/a/default-user=s64",
      "userId": "16819115629145464662"
     },
     "user_tz": -330
    },
    "id": "Lp5k-QVYQub6",
    "outputId": "70d7d2c6-b672-462c-fb1c-535b66c83ab7"
   },
   "outputs": [
    {
     "name": "stdout",
     "output_type": "stream",
     "text": [
      "Describe your symptoms: itching\n"
     ]
    }
   ],
   "source": [
    "description = np.array(input(\"Describe your symptoms: \").split())"
   ]
  },
  {
   "cell_type": "code",
   "execution_count": 8,
   "metadata": {
    "colab": {
     "base_uri": "https://localhost:8080/"
    },
    "executionInfo": {
     "elapsed": 38,
     "status": "ok",
     "timestamp": 1639131240062,
     "user": {
      "displayName": "Gottapu Deepika",
      "photoUrl": "https://lh3.googleusercontent.com/a/default-user=s64",
      "userId": "16819115629145464662"
     },
     "user_tz": -330
    },
    "id": "4VNZJeyHRXol",
    "outputId": "13296f15-e4a5-4ac7-8dee-934e16199caa"
   },
   "outputs": [
    {
     "name": "stdout",
     "output_type": "stream",
     "text": [
      "itching\n"
     ]
    }
   ],
   "source": [
    "s=np.zeros(132)\n",
    "i=0\n",
    "for x in symptoms:\n",
    "   if x in  description:\n",
    "      print(x)\n",
    "      s[i]=1\n",
    "   i+=1"
   ]
  },
  {
   "cell_type": "code",
   "execution_count": 9,
   "metadata": {
    "colab": {
     "base_uri": "https://localhost:8080/"
    },
    "executionInfo": {
     "elapsed": 33,
     "status": "ok",
     "timestamp": 1639131240063,
     "user": {
      "displayName": "Gottapu Deepika",
      "photoUrl": "https://lh3.googleusercontent.com/a/default-user=s64",
      "userId": "16819115629145464662"
     },
     "user_tz": -330
    },
    "id": "TmUBoczmaxJc",
    "outputId": "f15154be-0504-420f-9f17-fca8c758e1cf"
   },
   "outputs": [
    {
     "name": "stdout",
     "output_type": "stream",
     "text": [
      "[[1. 0. 0. 0. 0. 0. 0. 0. 0. 0. 0. 0. 0. 0. 0. 0. 0. 0. 0. 0. 0. 0. 0. 0.\n",
      "  0. 0. 0. 0. 0. 0. 0. 0. 0. 0. 0. 0. 0. 0. 0. 0. 0. 0. 0. 0. 0. 0. 0. 0.\n",
      "  0. 0. 0. 0. 0. 0. 0. 0. 0. 0. 0. 0. 0. 0. 0. 0. 0. 0. 0. 0. 0. 0. 0. 0.\n",
      "  0. 0. 0. 0. 0. 0. 0. 0. 0. 0. 0. 0. 0. 0. 0. 0. 0. 0. 0. 0. 0. 0. 0. 0.\n",
      "  0. 0. 0. 0. 0. 0. 0. 0. 0. 0. 0. 0. 0. 0. 0. 0. 0. 0. 0. 0. 0. 0. 0. 0.\n",
      "  0. 0. 0. 0. 0. 0. 0. 0. 0. 0. 0. 0.]]\n"
     ]
    }
   ],
   "source": [
    "B = s.reshape(1,132)\n",
    "print(B)"
   ]
  },
  {
   "cell_type": "code",
   "execution_count": 10,
   "metadata": {
    "colab": {
     "base_uri": "https://localhost:8080/"
    },
    "executionInfo": {
     "elapsed": 28,
     "status": "ok",
     "timestamp": 1639131240064,
     "user": {
      "displayName": "Gottapu Deepika",
      "photoUrl": "https://lh3.googleusercontent.com/a/default-user=s64",
      "userId": "16819115629145464662"
     },
     "user_tz": -330
    },
    "id": "3viMvE-jb1Lf",
    "outputId": "3d81d815-838f-48bd-8ac9-ea455c21c272"
   },
   "outputs": [
    {
     "name": "stdout",
     "output_type": "stream",
     "text": [
      "['Fungal infection']\n"
     ]
    }
   ],
   "source": [
    "print(classifier.predict(B))"
   ]
  },
  {
   "cell_type": "code",
   "execution_count": 11,
   "metadata": {
    "colab": {
     "base_uri": "https://localhost:8080/"
    },
    "executionInfo": {
     "elapsed": 23,
     "status": "ok",
     "timestamp": 1639131240065,
     "user": {
      "displayName": "Gottapu Deepika",
      "photoUrl": "https://lh3.googleusercontent.com/a/default-user=s64",
      "userId": "16819115629145464662"
     },
     "user_tz": -330
    },
    "id": "-Pe7mTwtNrWf",
    "outputId": "4de3c141-e5a8-4930-cc8a-71058c5ce032"
   },
   "outputs": [
    {
     "name": "stdout",
     "output_type": "stream",
     "text": [
      "[['Fungal infection' 'Fungal infection']\n",
      " ['Allergy' 'Allergy']\n",
      " ['GERD' 'GERD']\n",
      " ['Chronic cholestasis' 'Chronic cholestasis']\n",
      " ['Drug Reaction' 'Drug Reaction']\n",
      " ['Peptic ulcer diseae' 'Peptic ulcer diseae']\n",
      " ['AIDS' 'AIDS']\n",
      " ['Diabetes ' 'Diabetes ']\n",
      " ['Gastroenteritis' 'Gastroenteritis']\n",
      " ['Bronchial Asthma' 'Bronchial Asthma']\n",
      " ['Hypertension ' 'Hypertension ']\n",
      " ['Migraine' 'Migraine']\n",
      " ['Cervical spondylosis' 'Cervical spondylosis']\n",
      " ['Paralysis (brain hemorrhage)' 'Paralysis (brain hemorrhage)']\n",
      " ['Jaundice' 'Jaundice']\n",
      " ['Malaria' 'Malaria']\n",
      " ['Chicken pox' 'Chicken pox']\n",
      " ['Dengue' 'Dengue']\n",
      " ['Typhoid' 'Typhoid']\n",
      " ['hepatitis A' 'hepatitis A']\n",
      " ['Hepatitis B' 'Hepatitis B']\n",
      " ['Hepatitis C' 'Hepatitis C']\n",
      " ['Hepatitis D' 'Hepatitis D']\n",
      " ['Hepatitis E' 'Hepatitis E']\n",
      " ['Alcoholic hepatitis' 'Alcoholic hepatitis']\n",
      " ['Tuberculosis' 'Tuberculosis']\n",
      " ['Common Cold' 'Common Cold']\n",
      " ['Pneumonia' 'Pneumonia']\n",
      " ['Dimorphic hemmorhoids(piles)' 'Dimorphic hemmorhoids(piles)']\n",
      " ['Heart attack' 'Heart attack']\n",
      " ['Varicose veins' 'Varicose veins']\n",
      " ['Hypothyroidism' 'Hypothyroidism']\n",
      " ['Hyperthyroidism' 'Hyperthyroidism']\n",
      " ['Hypoglycemia' 'Hypoglycemia']\n",
      " ['Osteoarthristis' 'Osteoarthristis']\n",
      " ['Arthritis' 'Arthritis']\n",
      " ['(vertigo) Paroymsal  Positional Vertigo'\n",
      "  '(vertigo) Paroymsal  Positional Vertigo']\n",
      " ['Acne' 'Acne']\n",
      " ['Urinary tract infection' 'Urinary tract infection']\n",
      " ['Psoriasis' 'Psoriasis']\n",
      " ['Impetigo' 'Impetigo']]\n"
     ]
    }
   ],
   "source": [
    "y_pred = classifier.predict(X_test)\n",
    "print(np.concatenate((y_pred.reshape(len(y_pred),1), y_test.reshape(len(y_test),1)),1))"
   ]
  },
  {
   "cell_type": "code",
   "execution_count": 12,
   "metadata": {
    "colab": {
     "base_uri": "https://localhost:8080/"
    },
    "executionInfo": {
     "elapsed": 18,
     "status": "ok",
     "timestamp": 1639131240066,
     "user": {
      "displayName": "Gottapu Deepika",
      "photoUrl": "https://lh3.googleusercontent.com/a/default-user=s64",
      "userId": "16819115629145464662"
     },
     "user_tz": -330
    },
    "id": "82H7TlAHNx_B",
    "outputId": "30434be8-59ec-4254-8ee1-61c0c294e812"
   },
   "outputs": [
    {
     "name": "stdout",
     "output_type": "stream",
     "text": [
      "[[1 0 0 ... 0 0 0]\n",
      " [0 1 0 ... 0 0 0]\n",
      " [0 0 1 ... 0 0 0]\n",
      " ...\n",
      " [0 0 0 ... 1 0 0]\n",
      " [0 0 0 ... 0 1 0]\n",
      " [0 0 0 ... 0 0 1]]\n",
      "1.0\n"
     ]
    }
   ],
   "source": [
    "from sklearn.metrics import confusion_matrix, accuracy_score\n",
    "cm = confusion_matrix(y_test, y_pred)\n",
    "print(cm)\n",
    "print(accuracy_score(y_test, y_pred))\n"
   ]
  },
  {
   "cell_type": "code",
   "execution_count": null,
   "metadata": {},
   "outputs": [],
   "source": []
  },
  {
   "cell_type": "code",
   "execution_count": null,
   "metadata": {},
   "outputs": [],
   "source": []
  }
 ],
 "metadata": {
  "colab": {
   "authorship_tag": "ABX9TyPyUN7Cx4BEBT/VS2kzTBgG",
   "collapsed_sections": [],
   "name": " projectrandomforest.ipynb",
   "provenance": [
    {
     "file_id": "1xTNuMPho8KXJZM9VDHiuj3-WRGuJWeXK",
     "timestamp": 1639130465733
    },
    {
     "file_id": "1H-ISA3Oog8cI65A27QdIo9osYSd63EEG",
     "timestamp": 1639130030727
    },
    {
     "file_id": "1S-gHv3p-xzaBGlX8FIIU-l2NE3ALO3R7",
     "timestamp": 1639058616247
    }
   ]
  },
  "kernelspec": {
   "display_name": "Python 3 (ipykernel)",
   "language": "python",
   "name": "python3"
  },
  "language_info": {
   "codemirror_mode": {
    "name": "ipython",
    "version": 3
   },
   "file_extension": ".py",
   "mimetype": "text/x-python",
   "name": "python",
   "nbconvert_exporter": "python",
   "pygments_lexer": "ipython3",
   "version": "3.9.7"
  }
 },
 "nbformat": 4,
 "nbformat_minor": 1
}
